{
 "cells": [
  {
   "attachments": {},
   "cell_type": "markdown",
   "metadata": {},
   "source": [
    "# Bokeh Tutorial\n",
    "### Jaymin West"
   ]
  },
  {
   "cell_type": "code",
   "execution_count": 3,
   "metadata": {},
   "outputs": [],
   "source": [
    "import pandas as pd\n",
    "from bokeh.plotting import figure, output_file, show\n",
    "from bokeh.models import HoverTool"
   ]
  },
  {
   "attachments": {},
   "cell_type": "markdown",
   "metadata": {},
   "source": [
    "### Introduction"
   ]
  },
  {
   "attachments": {},
   "cell_type": "markdown",
   "metadata": {},
   "source": [
    "- Show off some of possibilities with Bokeh\n",
    "- Talk about intergration with websites\n",
    "- Talk about time series relevant data"
   ]
  },
  {
   "attachments": {},
   "cell_type": "markdown",
   "metadata": {},
   "source": [
    "# TODO: ADD INTRO"
   ]
  },
  {
   "attachments": {},
   "cell_type": "markdown",
   "metadata": {},
   "source": [
    "### Setting Up Bokeh\n",
    "- Installing Bokeh\n",
    "- Importing packages\n",
    "- Loading weather data\n",
    "- Convert date to Datetimeindex"
   ]
  },
  {
   "cell_type": "code",
   "execution_count": 19,
   "metadata": {},
   "outputs": [
    {
     "data": {
      "text/html": [
       "<div>\n",
       "<style scoped>\n",
       "    .dataframe tbody tr th:only-of-type {\n",
       "        vertical-align: middle;\n",
       "    }\n",
       "\n",
       "    .dataframe tbody tr th {\n",
       "        vertical-align: top;\n",
       "    }\n",
       "\n",
       "    .dataframe thead th {\n",
       "        text-align: right;\n",
       "    }\n",
       "</style>\n",
       "<table border=\"1\" class=\"dataframe\">\n",
       "  <thead>\n",
       "    <tr style=\"text-align: right;\">\n",
       "      <th></th>\n",
       "      <th>time</th>\n",
       "      <th>temp</th>\n",
       "      <th>dwpt</th>\n",
       "      <th>rhum</th>\n",
       "      <th>prcp</th>\n",
       "      <th>wdir</th>\n",
       "      <th>wspd</th>\n",
       "      <th>pres</th>\n",
       "      <th>coco</th>\n",
       "      <th>risk</th>\n",
       "    </tr>\n",
       "  </thead>\n",
       "  <tbody>\n",
       "    <tr>\n",
       "      <th>0</th>\n",
       "      <td>1.667520e+09</td>\n",
       "      <td>2.7</td>\n",
       "      <td>1.6</td>\n",
       "      <td>92.6</td>\n",
       "      <td>78.6</td>\n",
       "      <td>320.4</td>\n",
       "      <td>6.7</td>\n",
       "      <td>1008.0</td>\n",
       "      <td>16.0</td>\n",
       "      <td>-1</td>\n",
       "    </tr>\n",
       "    <tr>\n",
       "      <th>1</th>\n",
       "      <td>1.668557e+09</td>\n",
       "      <td>-4.7</td>\n",
       "      <td>-7.0</td>\n",
       "      <td>84.8</td>\n",
       "      <td>0.0</td>\n",
       "      <td>74.7</td>\n",
       "      <td>7.9</td>\n",
       "      <td>1037.2</td>\n",
       "      <td>5.0</td>\n",
       "      <td>-1</td>\n",
       "    </tr>\n",
       "    <tr>\n",
       "      <th>2</th>\n",
       "      <td>1.668730e+09</td>\n",
       "      <td>-6.5</td>\n",
       "      <td>-10.6</td>\n",
       "      <td>73.2</td>\n",
       "      <td>0.0</td>\n",
       "      <td>88.5</td>\n",
       "      <td>9.0</td>\n",
       "      <td>1033.9</td>\n",
       "      <td>1.0</td>\n",
       "      <td>-1</td>\n",
       "    </tr>\n",
       "    <tr>\n",
       "      <th>3</th>\n",
       "      <td>1.668989e+09</td>\n",
       "      <td>-4.8</td>\n",
       "      <td>-8.7</td>\n",
       "      <td>74.2</td>\n",
       "      <td>0.0</td>\n",
       "      <td>66.4</td>\n",
       "      <td>6.4</td>\n",
       "      <td>1026.0</td>\n",
       "      <td>3.0</td>\n",
       "      <td>-1</td>\n",
       "    </tr>\n",
       "    <tr>\n",
       "      <th>4</th>\n",
       "      <td>1.669162e+09</td>\n",
       "      <td>1.1</td>\n",
       "      <td>-0.1</td>\n",
       "      <td>92.2</td>\n",
       "      <td>4.2</td>\n",
       "      <td>279.6</td>\n",
       "      <td>8.4</td>\n",
       "      <td>1022.2</td>\n",
       "      <td>16.0</td>\n",
       "      <td>-1</td>\n",
       "    </tr>\n",
       "  </tbody>\n",
       "</table>\n",
       "</div>"
      ],
      "text/plain": [
       "           time  temp  dwpt  rhum  prcp   wdir  wspd    pres  coco  risk\n",
       "0  1.667520e+09   2.7   1.6  92.6  78.6  320.4   6.7  1008.0  16.0    -1\n",
       "1  1.668557e+09  -4.7  -7.0  84.8   0.0   74.7   7.9  1037.2   5.0    -1\n",
       "2  1.668730e+09  -6.5 -10.6  73.2   0.0   88.5   9.0  1033.9   1.0    -1\n",
       "3  1.668989e+09  -4.8  -8.7  74.2   0.0   66.4   6.4  1026.0   3.0    -1\n",
       "4  1.669162e+09   1.1  -0.1  92.2   4.2  279.6   8.4  1022.2  16.0    -1"
      ]
     },
     "execution_count": 19,
     "metadata": {},
     "output_type": "execute_result"
    }
   ],
   "source": [
    "# Getting Input Data: \n",
    "weather_df = pd.read_csv('input_data/weather_and_risk_data.csv', index_col=0)\n",
    "\n",
    "# Converting 'time' column to datetime format:\n",
    "weather_df['time'] = pd.to_datetime(weather_df['time'])\n",
    "weather_df['time'] = weather_df['time'].apply(lambda x: x.timestamp())\n",
    "\n",
    "weather_df.head()"
   ]
  },
  {
   "attachments": {},
   "cell_type": "markdown",
   "metadata": {},
   "source": [
    "### Creating Time Series Plot\n",
    "- Create a figure with datetime x-axis and y-axis be the temperature\n",
    "- Customize the plot with tiles and labels\n",
    "- Add lines to the chart"
   ]
  },
  {
   "cell_type": "code",
   "execution_count": null,
   "metadata": {},
   "outputs": [
    {
     "name": "stderr",
     "output_type": "stream",
     "text": [
      "/snap/core20/current/lib/x86_64-linux-gnu/libstdc++.so.6: version `GLIBCXX_3.4.29' not found (required by /lib/x86_64-linux-gnu/libproxy.so.1)\n",
      "Failed to load module: /home/jaymin/snap/code/common/.cache/gio-modules/libgiolibproxy.so\n",
      "libva error: vaGetDriverNameByIndex() failed with unknown libva error, driver_name = (null)\n"
     ]
    },
    {
     "name": "stdout",
     "output_type": "stream",
     "text": [
      "Opening in existing browser session.\n"
     ]
    }
   ],
   "source": [
    "# Creating a Bokeh Plot:\n",
    "plot = figure(title=\"Avalanche Risk 22-23\", x_axis_label='Date', y_axis_label='Value')\n",
    "\n",
    "plot.line(x='time', y='temp', legend_label=\"Temperature\", color='red', source=weather_df)\n",
    "plot.line(x='time', y='wspd', legend_label=\"Wind Speed\", source=weather_df)\n",
    "\n",
    "show(plot)"
   ]
  },
  {
   "attachments": {},
   "cell_type": "markdown",
   "metadata": {},
   "source": [
    "### Adding Hover Tooltips\n",
    "- Add all the neccessary data to the chart (normalize?)\n",
    "- Customize the appearance of tooltips\n",
    "- Test the tooltips"
   ]
  },
  {
   "cell_type": "code",
   "execution_count": 21,
   "metadata": {},
   "outputs": [
    {
     "name": "stderr",
     "output_type": "stream",
     "text": [
      "/snap/core20/current/lib/x86_64-linux-gnu/libstdc++.so.6: version `GLIBCXX_3.4.29' not found (required by /lib/x86_64-linux-gnu/libproxy.so.1)\n",
      "Failed to load module: /home/jaymin/snap/code/common/.cache/gio-modules/libgiolibproxy.so\n"
     ]
    },
    {
     "name": "stdout",
     "output_type": "stream",
     "text": [
      "Opening in existing browser session.\n"
     ]
    },
    {
     "name": "stderr",
     "output_type": "stream",
     "text": [
      "libva error: vaGetDriverNameByIndex() failed with unknown libva error, driver_name = (null)\n"
     ]
    }
   ],
   "source": [
    "hover = HoverTool(tooltips=[(\"Avalanche Risk\", \"@risk\")], mode='vline')\n",
    "plot.add_tools(hover)\n",
    "\n",
    "output_file(\"output_data/tutorial.html\")\n",
    "\n",
    "show(plot)"
   ]
  },
  {
   "attachments": {},
   "cell_type": "markdown",
   "metadata": {},
   "source": [
    "### Conclusion\n",
    "- Show it integrated with a streamlit app?"
   ]
  }
 ],
 "metadata": {
  "kernelspec": {
   "display_name": "env",
   "language": "python",
   "name": "python3"
  },
  "language_info": {
   "codemirror_mode": {
    "name": "ipython",
    "version": 3
   },
   "file_extension": ".py",
   "mimetype": "text/x-python",
   "name": "python",
   "nbconvert_exporter": "python",
   "pygments_lexer": "ipython3",
   "version": "3.10.6"
  },
  "orig_nbformat": 4
 },
 "nbformat": 4,
 "nbformat_minor": 2
}
