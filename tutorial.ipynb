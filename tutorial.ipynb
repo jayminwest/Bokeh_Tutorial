{
 "cells": [
  {
   "attachments": {},
   "cell_type": "markdown",
   "metadata": {},
   "source": [
    "# Bokeh Tutorial\n",
    "### Jaymin West"
   ]
  },
  {
   "cell_type": "code",
   "execution_count": 3,
   "metadata": {},
   "outputs": [],
   "source": [
    "import pandas as pd\n",
    "from bokeh.plotting import figure, output_file, show\n",
    "from bokeh.models import HoverTool"
   ]
  },
  {
   "attachments": {},
   "cell_type": "markdown",
   "metadata": {},
   "source": [
    "### Introduction"
   ]
  },
  {
   "attachments": {},
   "cell_type": "markdown",
   "metadata": {},
   "source": [
    "- Show off some of possibilities with Bokeh\n",
    "- Talk about intergration with websites\n",
    "- Talk about time series relevant data"
   ]
  },
  {
   "attachments": {},
   "cell_type": "markdown",
   "metadata": {},
   "source": [
    "# TODO: ADD INTRO"
   ]
  },
  {
   "attachments": {},
   "cell_type": "markdown",
   "metadata": {},
   "source": [
    "### Setting Up Bokeh\n",
    "- Installing Bokeh\n",
    "- Importing packages\n",
    "- Loading weather data\n",
    "- Convert date to Datetimeindex"
   ]
  },
  {
   "cell_type": "code",
   "execution_count": 9,
   "metadata": {},
   "outputs": [
    {
     "data": {
      "text/html": [
       "<div>\n",
       "<style scoped>\n",
       "    .dataframe tbody tr th:only-of-type {\n",
       "        vertical-align: middle;\n",
       "    }\n",
       "\n",
       "    .dataframe tbody tr th {\n",
       "        vertical-align: top;\n",
       "    }\n",
       "\n",
       "    .dataframe thead th {\n",
       "        text-align: right;\n",
       "    }\n",
       "</style>\n",
       "<table border=\"1\" class=\"dataframe\">\n",
       "  <thead>\n",
       "    <tr style=\"text-align: right;\">\n",
       "      <th></th>\n",
       "      <th>time</th>\n",
       "      <th>temp</th>\n",
       "      <th>dwpt</th>\n",
       "      <th>rhum</th>\n",
       "      <th>prcp</th>\n",
       "      <th>wdir</th>\n",
       "      <th>wspd</th>\n",
       "      <th>pres</th>\n",
       "      <th>coco</th>\n",
       "    </tr>\n",
       "  </thead>\n",
       "  <tbody>\n",
       "    <tr>\n",
       "      <th>0</th>\n",
       "      <td>1.664582e+09</td>\n",
       "      <td>14.1</td>\n",
       "      <td>8.3</td>\n",
       "      <td>70.5</td>\n",
       "      <td>0.0</td>\n",
       "      <td>66.5</td>\n",
       "      <td>5.0</td>\n",
       "      <td>1020.7</td>\n",
       "      <td>5.0</td>\n",
       "    </tr>\n",
       "    <tr>\n",
       "      <th>1</th>\n",
       "      <td>1.664669e+09</td>\n",
       "      <td>16.7</td>\n",
       "      <td>6.3</td>\n",
       "      <td>52.8</td>\n",
       "      <td>0.0</td>\n",
       "      <td>34.1</td>\n",
       "      <td>3.4</td>\n",
       "      <td>1018.0</td>\n",
       "      <td>1.0</td>\n",
       "    </tr>\n",
       "    <tr>\n",
       "      <th>2</th>\n",
       "      <td>1.664755e+09</td>\n",
       "      <td>17.9</td>\n",
       "      <td>6.0</td>\n",
       "      <td>46.4</td>\n",
       "      <td>0.0</td>\n",
       "      <td>41.3</td>\n",
       "      <td>4.0</td>\n",
       "      <td>1020.0</td>\n",
       "      <td>3.0</td>\n",
       "    </tr>\n",
       "    <tr>\n",
       "      <th>3</th>\n",
       "      <td>1.664842e+09</td>\n",
       "      <td>16.6</td>\n",
       "      <td>5.1</td>\n",
       "      <td>47.8</td>\n",
       "      <td>0.0</td>\n",
       "      <td>46.7</td>\n",
       "      <td>4.4</td>\n",
       "      <td>1020.0</td>\n",
       "      <td>5.0</td>\n",
       "    </tr>\n",
       "    <tr>\n",
       "      <th>4</th>\n",
       "      <td>1.664928e+09</td>\n",
       "      <td>18.1</td>\n",
       "      <td>6.5</td>\n",
       "      <td>47.8</td>\n",
       "      <td>0.0</td>\n",
       "      <td>346.4</td>\n",
       "      <td>1.6</td>\n",
       "      <td>1021.0</td>\n",
       "      <td>3.0</td>\n",
       "    </tr>\n",
       "    <tr>\n",
       "      <th>...</th>\n",
       "      <td>...</td>\n",
       "      <td>...</td>\n",
       "      <td>...</td>\n",
       "      <td>...</td>\n",
       "      <td>...</td>\n",
       "      <td>...</td>\n",
       "      <td>...</td>\n",
       "      <td>...</td>\n",
       "      <td>...</td>\n",
       "    </tr>\n",
       "    <tr>\n",
       "      <th>208</th>\n",
       "      <td>1.682554e+09</td>\n",
       "      <td>5.9</td>\n",
       "      <td>0.2</td>\n",
       "      <td>68.8</td>\n",
       "      <td>0.0</td>\n",
       "      <td>270.3</td>\n",
       "      <td>6.2</td>\n",
       "      <td>1017.7</td>\n",
       "      <td>NaN</td>\n",
       "    </tr>\n",
       "    <tr>\n",
       "      <th>209</th>\n",
       "      <td>1.682640e+09</td>\n",
       "      <td>5.5</td>\n",
       "      <td>-2.6</td>\n",
       "      <td>59.0</td>\n",
       "      <td>0.0</td>\n",
       "      <td>100.0</td>\n",
       "      <td>7.4</td>\n",
       "      <td>1015.0</td>\n",
       "      <td>NaN</td>\n",
       "    </tr>\n",
       "    <tr>\n",
       "      <th>210</th>\n",
       "      <td>1.682726e+09</td>\n",
       "      <td>5.3</td>\n",
       "      <td>-4.4</td>\n",
       "      <td>51.2</td>\n",
       "      <td>0.0</td>\n",
       "      <td>95.8</td>\n",
       "      <td>10.0</td>\n",
       "      <td>1016.4</td>\n",
       "      <td>NaN</td>\n",
       "    </tr>\n",
       "    <tr>\n",
       "      <th>211</th>\n",
       "      <td>1.682813e+09</td>\n",
       "      <td>4.4</td>\n",
       "      <td>-3.4</td>\n",
       "      <td>58.3</td>\n",
       "      <td>0.0</td>\n",
       "      <td>101.3</td>\n",
       "      <td>11.2</td>\n",
       "      <td>1018.8</td>\n",
       "      <td>NaN</td>\n",
       "    </tr>\n",
       "    <tr>\n",
       "      <th>212</th>\n",
       "      <td>1.682899e+09</td>\n",
       "      <td>NaN</td>\n",
       "      <td>NaN</td>\n",
       "      <td>NaN</td>\n",
       "      <td>0.0</td>\n",
       "      <td>NaN</td>\n",
       "      <td>NaN</td>\n",
       "      <td>NaN</td>\n",
       "      <td>NaN</td>\n",
       "    </tr>\n",
       "  </tbody>\n",
       "</table>\n",
       "<p>213 rows × 9 columns</p>\n",
       "</div>"
      ],
      "text/plain": [
       "             time  temp  dwpt  rhum  prcp   wdir  wspd    pres  coco\n",
       "0    1.664582e+09  14.1   8.3  70.5   0.0   66.5   5.0  1020.7   5.0\n",
       "1    1.664669e+09  16.7   6.3  52.8   0.0   34.1   3.4  1018.0   1.0\n",
       "2    1.664755e+09  17.9   6.0  46.4   0.0   41.3   4.0  1020.0   3.0\n",
       "3    1.664842e+09  16.6   5.1  47.8   0.0   46.7   4.4  1020.0   5.0\n",
       "4    1.664928e+09  18.1   6.5  47.8   0.0  346.4   1.6  1021.0   3.0\n",
       "..            ...   ...   ...   ...   ...    ...   ...     ...   ...\n",
       "208  1.682554e+09   5.9   0.2  68.8   0.0  270.3   6.2  1017.7   NaN\n",
       "209  1.682640e+09   5.5  -2.6  59.0   0.0  100.0   7.4  1015.0   NaN\n",
       "210  1.682726e+09   5.3  -4.4  51.2   0.0   95.8  10.0  1016.4   NaN\n",
       "211  1.682813e+09   4.4  -3.4  58.3   0.0  101.3  11.2  1018.8   NaN\n",
       "212  1.682899e+09   NaN   NaN   NaN   0.0    NaN   NaN     NaN   NaN\n",
       "\n",
       "[213 rows x 9 columns]"
      ]
     },
     "execution_count": 9,
     "metadata": {},
     "output_type": "execute_result"
    }
   ],
   "source": [
    "# Getting Input Data: \n",
    "weather_df = pd.read_csv('input_data/stevens_pass_22-23_data.csv', index_col=0)\n",
    "\n",
    "# Converting 'time' column to datetime format:\n",
    "weather_df['time'] = pd.to_datetime(weather_df['time'])\n",
    "weather_df['time'] = weather_df['time'].apply(lambda x: x.timestamp())"
   ]
  },
  {
   "attachments": {},
   "cell_type": "markdown",
   "metadata": {},
   "source": [
    "### Creating Time Series Plot\n",
    "- Create a figure with datetime x-axis and y-axis be the temperature\n",
    "- Customize the plot with tiles and labels\n",
    "- Add lines to the chart"
   ]
  },
  {
   "cell_type": "code",
   "execution_count": null,
   "metadata": {},
   "outputs": [
    {
     "name": "stderr",
     "output_type": "stream",
     "text": [
      "/snap/core20/current/lib/x86_64-linux-gnu/libstdc++.so.6: version `GLIBCXX_3.4.29' not found (required by /lib/x86_64-linux-gnu/libproxy.so.1)\n",
      "Failed to load module: /home/jaymin/snap/code/common/.cache/gio-modules/libgiolibproxy.so\n",
      "libva error: vaGetDriverNameByIndex() failed with unknown libva error, driver_name = (null)\n"
     ]
    },
    {
     "name": "stdout",
     "output_type": "stream",
     "text": [
      "Opening in existing browser session.\n"
     ]
    }
   ],
   "source": [
    "# Creating a Bokeh Plot:\n",
    "plot = figure(title=\"Avalanche Risk 22-23\", x_axis_label='Date', y_axis_label='Value')\n",
    "\n",
    "plot.line(x='time', y='temp', legend_label=\"Temperature\", color='red', source=weather_df)\n",
    "plot.line(x='time', y='wspd', legend_label=\"Wind Speed\", source=weather_df)\n",
    "\n",
    "show(plot)"
   ]
  },
  {
   "attachments": {},
   "cell_type": "markdown",
   "metadata": {},
   "source": [
    "### Adding Hover Tooltips\n",
    "- Add all the neccessary data to the chart (normalize?)\n",
    "- Customize the appearance of tooltips\n",
    "- Test the tooltips"
   ]
  },
  {
   "cell_type": "code",
   "execution_count": 16,
   "metadata": {},
   "outputs": [
    {
     "ename": "NameError",
     "evalue": "name 'p' is not defined",
     "output_type": "error",
     "traceback": [
      "\u001b[0;31m---------------------------------------------------------------------------\u001b[0m",
      "\u001b[0;31mNameError\u001b[0m                                 Traceback (most recent call last)",
      "Cell \u001b[0;32mIn[16], line 2\u001b[0m\n\u001b[1;32m      1\u001b[0m hover \u001b[39m=\u001b[39m HoverTool(tooltips\u001b[39m=\u001b[39m[(\u001b[39m\"\u001b[39m\u001b[39mAvalanche Risk\u001b[39m\u001b[39m\"\u001b[39m, \u001b[39m\"\u001b[39m\u001b[39m@risk\u001b[39m\u001b[39m\"\u001b[39m)], mode\u001b[39m=\u001b[39m\u001b[39m'\u001b[39m\u001b[39mvline\u001b[39m\u001b[39m'\u001b[39m)\n\u001b[0;32m----> 2\u001b[0m p\u001b[39m.\u001b[39madd_tools(hover)\n\u001b[1;32m      4\u001b[0m output_file(\u001b[39m\"\u001b[39m\u001b[39mavalanche_risk_22-23.html\u001b[39m\u001b[39m\"\u001b[39m)\n\u001b[1;32m      6\u001b[0m show(p)\n",
      "\u001b[0;31mNameError\u001b[0m: name 'p' is not defined"
     ]
    }
   ],
   "source": [
    "hover = HoverTool(tooltips=[(\"Avalanche Risk\", \"@risk\")], mode='vline')\n",
    "plot.add_tools(hover)\n",
    "\n",
    "output_file(\"avalanche_risk_22-23.html\")\n",
    "\n",
    "show(p)"
   ]
  },
  {
   "attachments": {},
   "cell_type": "markdown",
   "metadata": {},
   "source": [
    "### Conclusion\n",
    "- Show it integrated with a streamlit app?"
   ]
  }
 ],
 "metadata": {
  "kernelspec": {
   "display_name": "env",
   "language": "python",
   "name": "python3"
  },
  "language_info": {
   "codemirror_mode": {
    "name": "ipython",
    "version": 3
   },
   "file_extension": ".py",
   "mimetype": "text/x-python",
   "name": "python",
   "nbconvert_exporter": "python",
   "pygments_lexer": "ipython3",
   "version": "3.10.6"
  },
  "orig_nbformat": 4
 },
 "nbformat": 4,
 "nbformat_minor": 2
}
